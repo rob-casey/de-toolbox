{
 "cells": [
  {
   "cell_type": "markdown",
   "id": "d75604a1-82f1-4abc-9bc9-39e48d331794",
   "metadata": {},
   "source": [
    "### ETL - Extract, Transform, Load and Pipelines\n",
    "\n",
    "1. Extracting Data\n",
    "2. Transforming Data\n",
    "3. Loading Data\n",
    "4. Building Pipelines\n",
    "\n",
    "Steps to Connect PostGreSQL\n",
    "1. Ensure Required Libraries Are Installed\n",
    "   (sqlalchemy and psycopg2-binary pandas)\n",
    "2. Set up the Connection String\n",
    "3. Create the Engine and Extract Data\n",
    "4. Handle Potential Issues"
   ]
  },
  {
   "cell_type": "code",
   "execution_count": 1,
   "id": "3330d2d9-a964-4070-a824-9aee81d68422",
   "metadata": {},
   "outputs": [
    {
     "name": "stdout",
     "output_type": "stream",
     "text": [
      "Data extracted successfully!\n",
      "   id     name  age         city   salary\n",
      "0   1    Alice   30     New York  70000.0\n",
      "1   2      Bob   25  Los Angeles  80000.0\n",
      "2   3  Charlie   35      Chicago  90000.0\n",
      "3   4    David   28      Houston  60000.0\n",
      "4   5      Eve   40      Phoenix  75000.0\n"
     ]
    }
   ],
   "source": [
    "# connecting to a database with python\n",
    "\n",
    "from sqlalchemy import create_engine\n",
    "import pandas as pd\n",
    "\n",
    "# define postgresql credentials and database details\n",
    "username = 'myuser'\n",
    "password = '4r3e2w1Q'\n",
    "database = 'mydatabase'\n",
    "host = 'localhost'\n",
    "port = '5432'\n",
    "\n",
    "# create the connection string\n",
    "connection_string = f'postgresql://{username}:{password}@{host}:{port}/{database}'\n",
    "\n",
    "try:\n",
    "    # create an engine instance\n",
    "    engine = create_engine(connection_string)\n",
    "    \n",
    "    # define the query\n",
    "    query = 'SELECT * FROM my_table'\n",
    "    \n",
    "    # connect to the database and extract the data\n",
    "    df = pd.read_sql(query, engine)\n",
    "    \n",
    "    # print the first few rows from the dataframe\n",
    "    print('Data extracted successfully!')\n",
    "    print(df.head())\n",
    "\n",
    "except Exception as e:\n",
    "    print('An error occured:')\n",
    "    print(e)"
   ]
  },
  {
   "cell_type": "code",
   "execution_count": 3,
   "id": "d6f73c7a-c307-403a-919b-9c3ea0890428",
   "metadata": {},
   "outputs": [
    {
     "name": "stdout",
     "output_type": "stream",
     "text": [
      "   id               name  age         city  salary   join_date\n",
      "0   1  Melody Cunningham   56     New York   38392  2022-01-20\n",
      "1   2       Laura French   46     New York   60535  2022-11-18\n",
      "2   3        Brandi Reed   32      Chicago  108603  2015-03-24\n",
      "3   4    Douglas Kennedy   25  Los Angeles  143569  2016-11-16\n",
      "4   5        Tammy Evans   38  Los Angeles   82256  2015-04-15\n"
     ]
    }
   ],
   "source": [
    "# extract data from csv file\n",
    "csv_file = 'synthetic_data.csv'\n",
    "df = pd.read_csv(csv_file)\n",
    "print(df.head())"
   ]
  },
  {
   "cell_type": "code",
   "execution_count": null,
   "id": "7589a6c1-8c1e-4297-870c-44b46278122a",
   "metadata": {},
   "outputs": [],
   "source": []
  },
  {
   "cell_type": "code",
   "execution_count": null,
   "id": "7da841b0-bb8e-4df1-9113-0febadcc7b6a",
   "metadata": {},
   "outputs": [],
   "source": [
    "from sql alchemy import create_engine\n",
    "\n",
    "# create an engine instance\n",
    "engine = create_engine("
   ]
  },
  {
   "cell_type": "code",
   "execution_count": null,
   "id": "ccb1b882-5f58-4787-b413-98d9678da782",
   "metadata": {},
   "outputs": [],
   "source": []
  },
  {
   "cell_type": "code",
   "execution_count": null,
   "id": "eac696b7-3c7e-448f-b65f-12ae60d87585",
   "metadata": {},
   "outputs": [],
   "source": []
  },
  {
   "cell_type": "code",
   "execution_count": null,
   "id": "fcd6a6c6-98a7-4ecf-959c-7c4d4d9da1f0",
   "metadata": {},
   "outputs": [],
   "source": []
  },
  {
   "cell_type": "code",
   "execution_count": null,
   "id": "be0c4152-cb61-46a4-a641-2cc9c403875c",
   "metadata": {},
   "outputs": [],
   "source": []
  },
  {
   "cell_type": "code",
   "execution_count": null,
   "id": "671fee4f-c142-4f3a-aa20-7e09f0408113",
   "metadata": {},
   "outputs": [],
   "source": []
  }
 ],
 "metadata": {
  "kernelspec": {
   "display_name": "Python 3 (ipykernel)",
   "language": "python",
   "name": "python3"
  },
  "language_info": {
   "codemirror_mode": {
    "name": "ipython",
    "version": 3
   },
   "file_extension": ".py",
   "mimetype": "text/x-python",
   "name": "python",
   "nbconvert_exporter": "python",
   "pygments_lexer": "ipython3",
   "version": "3.9.13"
  }
 },
 "nbformat": 4,
 "nbformat_minor": 5
}
