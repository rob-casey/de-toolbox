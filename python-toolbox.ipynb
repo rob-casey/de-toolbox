{
 "cells": [
  {
   "cell_type": "markdown",
   "id": "59ff1526-4062-4de6-9e22-30ffa7c95d3a",
   "metadata": {
    "jp-MarkdownHeadingCollapsed": true
   },
   "source": [
    "### 1. Basic Syntax, Data Types, and Control Structures"
   ]
  },
  {
   "cell_type": "code",
   "execution_count": null,
   "id": "af9050e5-97df-4ee2-8cd3-78a83376cf83",
   "metadata": {},
   "outputs": [],
   "source": [
    "# Variables and Data Types\n",
    "\n",
    "x = 5\n",
    "\n",
    "y = \"Hello, World!\" \n",
    "\n",
    "z = 3.14 \n",
    " \n",
    "is_active = True\n"
   ]
  },
  {
   "cell_type": "code",
   "execution_count": null,
   "id": "070a0fde-9190-42a4-8c57-b6769f64fd3e",
   "metadata": {},
   "outputs": [],
   "source": [
    "# List\n",
    "\n",
    "my_list = [1, 2, 3, 4, 5]\n",
    "\n",
    "# Tuple (immutable list)\n",
    "my_tuple = (1, 2, 3, 4, 5)\n",
    "\n",
    "# Set (unique elements)\n",
    "my_set = {1, 2, 3, 4, 5}\n",
    "\n",
    "# Dictionary\n",
    "my_dict = {\"name\": \"Alice\", \"age\": 30, \"city\": \"New York\"}\n"
   ]
  },
  {
   "cell_type": "code",
   "execution_count": null,
   "id": "8d8f04e4-0f35-41af-8ead-547782e28fdd",
   "metadata": {},
   "outputs": [],
   "source": [
    "# Lists\n",
    "\n",
    "my_list = [1, 2, 3, 4, 5]\n",
    "print(my_list)\n",
    "print(my_list[0])  # Accessing the first element\n",
    "my_list.append(6)  # Adding an element\n",
    "print(my_list)\n"
   ]
  },
  {
   "cell_type": "code",
   "execution_count": null,
   "id": "0ebe5da8-e0d4-4ee5-b3b8-8c69a525ce4a",
   "metadata": {},
   "outputs": [],
   "source": [
    "# Dictionaries\n",
    "\n",
    "my_dict = {\"name\": \"Alice\", \"age\": 30, \"city\": \"New York\"}\n",
    "print(my_dict)\n",
    "print(my_dict[\"name\"])  # Accessing value by key\n",
    "my_dict[\"age\"] = 31  # Modifying a value\n",
    "print(my_dict)\n"
   ]
  },
  {
   "cell_type": "code",
   "execution_count": null,
   "id": "3cd9e38b-8b65-4ef1-9d9e-7b4baf3c8681",
   "metadata": {},
   "outputs": [],
   "source": [
    "# String Operations\n",
    "\n",
    "# Concatenation\n",
    "full_name = \"John\" + \" \" + \"Doe\"\n",
    "\n",
    "# Formatting\n",
    "age = 30\n",
    "formatted_string = f\"My name is {full_name} and I am {age} years old.\"\n",
    "\n",
    "# Methods\n",
    "upper_case = full_name.upper()\n",
    "lower_case = full_name.lower()\n"
   ]
  },
  {
   "cell_type": "code",
   "execution_count": null,
   "id": "32f91179-a3e7-4a4b-909a-363c25c9ed51",
   "metadata": {},
   "outputs": [],
   "source": [
    "# Control Structures\n",
    "\n",
    "# If-Else\n",
    "if x > 2:\n",
    "    print(\"x is greater than 2\")\n",
    "else:\n",
    "    print(\"x is not greater than 2\")\n",
    "\n",
    "# For Loop\n",
    "for i in my_list:\n",
    "    print(i)\n",
    "\n",
    "# While Loop\n",
    "count = 0\n",
    "while count < 5:\n",
    "    print(\"Count:\", count)\n",
    "    count += 1"
   ]
  },
  {
   "cell_type": "code",
   "execution_count": null,
   "id": "062fdff4-ebe1-4b6c-ac9e-060cc3f1b57b",
   "metadata": {},
   "outputs": [],
   "source": [
    "# Functions\n",
    "def add(a, b):\n",
    "    return a + b\n",
    "\n",
    "print(add(2, 3))\n",
    "\n",
    "# Lambda Functions\n",
    "add = lambda a, b: a + b\n",
    "print(add(2, 3))"
   ]
  },
  {
   "cell_type": "markdown",
   "id": "2c75438d-5429-490e-9537-8f7a32d9db0e",
   "metadata": {
    "jp-MarkdownHeadingCollapsed": true
   },
   "source": [
    "### Data Manipulation with Pandas"
   ]
  },
  {
   "cell_type": "code",
   "execution_count": null,
   "id": "b29202f6-9eac-4c30-8bdd-34332866b613",
   "metadata": {},
   "outputs": [],
   "source": [
    "# Creating a DataFrame\n",
    "\n",
    "import pandas as pd\n",
    "\n",
    "data = {\n",
    "    'Name': ['Alice', 'Bob', 'Charlie'],\n",
    "    'Age': [25, 30, 35],\n",
    "    'City': ['New York', 'San Francisco', 'Los Angeles']\n",
    "}\n",
    "df = pd.DataFrame(data)\n",
    "print(df)\n"
   ]
  },
  {
   "cell_type": "code",
   "execution_count": null,
   "id": "d2d2d932-d2e8-441e-b08c-6e304526a0ec",
   "metadata": {},
   "outputs": [],
   "source": [
    "# Reading CSV\n",
    "df = pd.read_csv('data.csv')\n",
    "\n",
    "# Writing CSV\n",
    "df.to_csv('output.csv', index=False)\n"
   ]
  },
  {
   "cell_type": "code",
   "execution_count": null,
   "id": "0ceb59f1-6d22-49a4-8450-ae12874f9ac9",
   "metadata": {},
   "outputs": [],
   "source": [
    "# Viewing Data\n",
    "print(df.head())  # Viewing the first few rows\n",
    "print(df.tail())  # Viewing the last few rows\n",
    "print(df.describe())  # Summary statistics\n",
    "print(df.info())  # Information about the DataFrame\n"
   ]
  },
  {
   "cell_type": "code",
   "execution_count": null,
   "id": "7fcd900b-2621-493a-a965-b71010d582c7",
   "metadata": {},
   "outputs": [],
   "source": [
    "# Basic Operations\n",
    "\n",
    "print(df['Age'].mean())  # Average age\n",
    "print(df['Age'].max())  # Maximum age"
   ]
  },
  {
   "cell_type": "code",
   "execution_count": null,
   "id": "7128584f-bc8b-435e-8c85-f89677d73aaf",
   "metadata": {},
   "outputs": [],
   "source": [
    "# Selecting columns\n",
    "print(df['column_name'])\n",
    "\n",
    "# Selecting multiple columns\n",
    "print(df[['column1', 'column2']])\n",
    "\n",
    "# Selecting rows by index\n",
    "print(df.iloc[0])  # First row\n",
    "\n",
    "# Selecting rows by condition\n",
    "print(df[df['column_name'] > 10])\n"
   ]
  },
  {
   "cell_type": "code",
   "execution_count": null,
   "id": "f004b315-1617-4a26-9551-f04d7d6949b5",
   "metadata": {},
   "outputs": [],
   "source": [
    "# Data Cleaning\n",
    "\n",
    "# Handling missing values\n",
    "df = df.dropna()  # Drop rows with missing values\n",
    "df = df.fillna(0)  # Fill missing values with 0\n",
    "\n",
    "# Removing duplicates\n",
    "df = df.drop_duplicates()"
   ]
  },
  {
   "cell_type": "code",
   "execution_count": null,
   "id": "45a0a9ee-7032-43b7-926f-ee675e1db89c",
   "metadata": {},
   "outputs": [],
   "source": [
    "# Data Transformation\n",
    "\n",
    "# Adding a new column\n",
    "df['new_column'] = df['existing_column'] * 2\n",
    "\n",
    "# Applying functions to columns\n",
    "df['new_column'] = df['existing_column'].apply(lambda x: x * 2)\n",
    "\n",
    "# Renaming columns\n",
    "df = df.rename(columns={'old_name': 'new_name'})\n",
    "\n",
    "# Binning data\n",
    "df['binned'] = pd.cut(df['column'], bins=[0, 10, 20, 30], labels=['Low', 'Medium', 'High'])\n"
   ]
  },
  {
   "cell_type": "code",
   "execution_count": null,
   "id": "a2227f36-01ac-4fc0-8511-3cd92abdb2aa",
   "metadata": {},
   "outputs": [],
   "source": [
    "# Merging DataFrames\n",
    "df1 = pd.DataFrame({'key': ['A', 'B', 'C'], 'value1': [1, 2, 3]})\n",
    "df2 = pd.DataFrame({'key': ['A', 'B', 'D'], 'value2': [4, 5, 6]})\n",
    "\n",
    "merged_df = pd.merge(df1, df2, on='key', how='inner')  # Inner join\n",
    "merged_df = pd.merge(df1, df2, on='key', how='outer')  # Outer join\n"
   ]
  },
  {
   "cell_type": "code",
   "execution_count": null,
   "id": "179b54d3-d19c-4c3f-9e0a-5ff58757d1ca",
   "metadata": {},
   "outputs": [],
   "source": [
    "# Filtering Data\n",
    "\n",
    "print(df[df['Age'] > 28])  # Filter rows where age is greater than 28"
   ]
  },
  {
   "cell_type": "code",
   "execution_count": null,
   "id": "6e36ffa6-a472-4ad6-bfe6-270bed4d624a",
   "metadata": {},
   "outputs": [],
   "source": [
    "# Adding a New Column\n",
    "df['Age in 5 Years'] = df['Age'] + 5\n",
    "print(df)"
   ]
  },
  {
   "cell_type": "code",
   "execution_count": null,
   "id": "af4abba9-c6e0-4954-8151-887250e3544b",
   "metadata": {},
   "outputs": [],
   "source": [
    "# Group By\n",
    "grouped = df.groupby('column_name')\n",
    "\n",
    "# Aggregations\n",
    "print(grouped['another_column'].sum())\n",
    "print(grouped['another_column'].mean())"
   ]
  },
  {
   "cell_type": "code",
   "execution_count": null,
   "id": "31245e96-5cb3-451e-a64e-78b012a3308e",
   "metadata": {},
   "outputs": [],
   "source": [
    "# Creating a Pivot Table\n",
    "\n",
    "pivot_table = pd.pivot_table(df, values='value_column', index='index_column', columns='column_column', aggfunc='sum')\n",
    "print(pivot_table)\n"
   ]
  },
  {
   "cell_type": "code",
   "execution_count": null,
   "id": "4eff12f1-eeae-43d8-8986-a393273d610c",
   "metadata": {},
   "outputs": [],
   "source": [
    "# Handling Time Series Data\n",
    "\n",
    "# Converting to DateTime\n",
    "df['date_column'] = pd.to_datetime(df['date_column'])\n",
    "\n",
    "# Setting the index\n",
    "df.set_index('date_column', inplace=True)\n",
    "\n",
    "# Resampling\n",
    "df_resampled = df.resample('M').sum()  # Resample by month and sum\n",
    "print(df_resampled)"
   ]
  },
  {
   "cell_type": "markdown",
   "id": "ba31e15e-fb8d-4679-94eb-168460b5ecba",
   "metadata": {
    "jp-MarkdownHeadingCollapsed": true
   },
   "source": [
    "### Numerical Operations with NumPy"
   ]
  },
  {
   "cell_type": "code",
   "execution_count": null,
   "id": "48140fb1-d487-4221-9133-57f6af069cec",
   "metadata": {},
   "outputs": [],
   "source": [
    "import numpy as np\n",
    "\n",
    "# Creating Arrays\n",
    "arr = np.array([1, 2, 3, 4, 5])\n",
    "arr_2d = np.array([[1, 2, 3], [4, 5, 6]])\n"
   ]
  },
  {
   "cell_type": "code",
   "execution_count": null,
   "id": "9424ee0a-36ca-41f0-a4d5-92145a5df587",
   "metadata": {},
   "outputs": [],
   "source": [
    "# Basic Operations\n",
    "print(np.mean(arr))  # Mean of the array\n",
    "print(np.sum(arr))  # Sum of the array\n",
    "print(np.max(arr))  # Maximum value\n",
    "print(np.min(arr))  # Minimum value\n",
    "\n",
    "# Element-wise Operations\n",
    "print(arr + 10)\n",
    "print(arr * 2)\n"
   ]
  },
  {
   "cell_type": "code",
   "execution_count": null,
   "id": "1bdf1ea1-ba6a-40d0-8bac-65f40d37cc31",
   "metadata": {},
   "outputs": [],
   "source": [
    "# Reshaping Arrays\n",
    "arr_reshaped = arr.reshape((1, 5))\n",
    "print(arr_reshaped)\n"
   ]
  },
  {
   "cell_type": "code",
   "execution_count": null,
   "id": "d0d55e77-1593-401a-a981-e607b9e466ee",
   "metadata": {},
   "outputs": [],
   "source": [
    "# Advanced Indexing\n",
    "\n",
    "# Slicing\n",
    "print(arr[1:4])  # Elements from index 1 to 3\n",
    "\n",
    "# Boolean Indexing\n",
    "print(arr[arr > 2])  # Elements greater than 2\n"
   ]
  },
  {
   "cell_type": "code",
   "execution_count": null,
   "id": "af820963-f198-4a78-9e30-fcca960954b9",
   "metadata": {},
   "outputs": [],
   "source": [
    "# Statistical Functions\n",
    "\n",
    "# Standard Deviation and Variance\n",
    "print(np.std(arr))\n",
    "print(np.var(arr))\n",
    "\n",
    "# Correlation and Covariance\n",
    "print(np.corrcoef(arr, arr))\n",
    "print(np.cov(arr, arr))\n"
   ]
  },
  {
   "cell_type": "code",
   "execution_count": null,
   "id": "9d24c898-2dfd-4825-917c-3bb655b8e108",
   "metadata": {},
   "outputs": [],
   "source": [
    "# Generating Random Numbers\n",
    "random_arr = np.random.rand(5)\n",
    "print(random_arr)\n"
   ]
  },
  {
   "cell_type": "code",
   "execution_count": null,
   "id": "4753e772-b354-473f-b540-d5ca7a14520e",
   "metadata": {},
   "outputs": [],
   "source": [
    "# Vectorized Operations\n",
    "\n",
    "vector1 = np.array([1, 2, 3, 4])\n",
    "vector2 = np.array([4, 3, 2, 1])\n",
    "\n",
    "print(vector1 + vector2)  # Element-wise addition\n",
    "print(vector1 * vector2)  # Element-wise multiplication\n"
   ]
  },
  {
   "cell_type": "code",
   "execution_count": null,
   "id": "3ddd6643-723e-453e-91ae-832510298304",
   "metadata": {},
   "outputs": [],
   "source": [
    "# Linear Algebra\n",
    "\n",
    "matrix1 = np.array([[1, 2], [3, 4]])\n",
    "matrix2 = np.array([[5, 6], [7, 8]])\n",
    "\n",
    "print(np.dot(matrix1, matrix2))  # Matrix multiplication\n",
    "print(np.linalg.inv(matrix1))  # Inverse of a matrix\n",
    "print(np.linalg.eig(matrix1))  # Eigenvalues and eigenvectors\n"
   ]
  },
  {
   "cell_type": "markdown",
   "id": "da9f9e13-4be6-4e70-b92a-4f803ee847b3",
   "metadata": {
    "jp-MarkdownHeadingCollapsed": true
   },
   "source": [
    "### Matplotlib for Data Visualization"
   ]
  },
  {
   "cell_type": "code",
   "execution_count": null,
   "id": "c9ee60bb-cf2b-40b5-ab6d-68fef1c49184",
   "metadata": {},
   "outputs": [],
   "source": [
    "import matplotlib.pyplot as plt\n",
    "\n",
    "# Simple Line Plot\n",
    "plt.plot(arr)\n",
    "plt.title('Simple Line Plot')\n",
    "plt.xlabel('Index')\n",
    "plt.ylabel('Value')\n",
    "plt.show()\n",
    "\n",
    "# Bar Plot\n",
    "plt.bar(df['Name'], df['Age'])\n",
    "plt.title('Age of Individuals')\n",
    "plt.xlabel('Name')\n",
    "plt.ylabel('Age')\n",
    "plt.show()\n"
   ]
  },
  {
   "cell_type": "markdown",
   "id": "c88fb833-5b96-4289-918d-37951fd630fb",
   "metadata": {
    "jp-MarkdownHeadingCollapsed": true
   },
   "source": [
    "### Advanced Libraries"
   ]
  },
  {
   "cell_type": "code",
   "execution_count": null,
   "id": "10e6314f-4e4d-43b4-9aae-d338ef8702fb",
   "metadata": {},
   "outputs": [],
   "source": [
    "# Scipy for Scientific Computing\n",
    "\n",
    "from scipy import stats\n",
    "\n",
    "# Statistical Functions\n",
    "arr = np.array([1, 2, 2, 3, 4, 5, 5, 5, 6])\n",
    "mode = stats.mode(arr)\n",
    "print(f\"Mode: {mode.mode[0]}, Count: {mode.count[0]}\")\n",
    "\n",
    "# T-Test\n",
    "sample1 = np.array([1, 2, 3, 4, 5])\n",
    "sample2 = np.array([2, 3, 4, 5, 6])\n",
    "t_stat, p_value = stats.ttest_ind(sample1, sample2)\n",
    "print(f\"T-Statistic: {t_stat}, P-Value: {p_value}\")\n"
   ]
  },
  {
   "cell_type": "code",
   "execution_count": null,
   "id": "aa398325-d89d-4ccd-a9ff-0fa0f66a4e2d",
   "metadata": {},
   "outputs": [],
   "source": [
    "# Requests for HTTP Requests\n",
    "\n",
    "import requests\n",
    "\n",
    "response = requests.get('https://api.github.com')\n",
    "print(response.status_code)\n",
    "print(response.json())"
   ]
  },
  {
   "cell_type": "markdown",
   "id": "71e7b4c5-9bc2-46b6-8d03-2df53b4e1c8b",
   "metadata": {
    "jp-MarkdownHeadingCollapsed": true
   },
   "source": [
    "### Working with APIs"
   ]
  },
  {
   "cell_type": "code",
   "execution_count": null,
   "id": "3a22bf16-a834-419d-aad6-263332d8f536",
   "metadata": {},
   "outputs": [],
   "source": [
    "# Making GET Requests\n",
    "\n",
    "import requests\n",
    "\n",
    "response = requests.get('https://api.github.com/users/octocat')\n",
    "data = response.json()\n",
    "print(data)"
   ]
  },
  {
   "cell_type": "code",
   "execution_count": null,
   "id": "6c6306a7-4e87-434e-a143-825887f1056f",
   "metadata": {},
   "outputs": [],
   "source": [
    "# Making POST Requests\n",
    "\n",
    "import requests\n",
    "\n",
    "payload = {'key1': 'value1', 'key2': 'value2'}\n",
    "response = requests.post('https://httpbin.org/post', data=payload)\n",
    "print(response.text)"
   ]
  },
  {
   "cell_type": "code",
   "execution_count": null,
   "id": "f114122a-39be-4123-8aa4-b250c9344b15",
   "metadata": {},
   "outputs": [],
   "source": []
  },
  {
   "cell_type": "code",
   "execution_count": null,
   "id": "12cb0867-6f6e-4e54-b0ee-d895b671a5e2",
   "metadata": {},
   "outputs": [],
   "source": []
  },
  {
   "cell_type": "code",
   "execution_count": null,
   "id": "cd8e0216-ff81-46f4-a554-06bf240f6473",
   "metadata": {},
   "outputs": [],
   "source": []
  },
  {
   "cell_type": "code",
   "execution_count": null,
   "id": "4be09474-014f-48c1-aec4-099c40032eb3",
   "metadata": {},
   "outputs": [],
   "source": []
  }
 ],
 "metadata": {
  "kernelspec": {
   "display_name": "Python 3 (ipykernel)",
   "language": "python",
   "name": "python3"
  },
  "language_info": {
   "codemirror_mode": {
    "name": "ipython",
    "version": 3
   },
   "file_extension": ".py",
   "mimetype": "text/x-python",
   "name": "python",
   "nbconvert_exporter": "python",
   "pygments_lexer": "ipython3",
   "version": "3.9.13"
  }
 },
 "nbformat": 4,
 "nbformat_minor": 5
}
